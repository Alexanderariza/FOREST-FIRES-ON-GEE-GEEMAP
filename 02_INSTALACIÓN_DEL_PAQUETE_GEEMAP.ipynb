{
 "cells": [
  {
   "cell_type": "markdown",
   "metadata": {},
   "source": [
    "<img src='./IMG/head_a.png' alt='Logo Head' align='center' width='100%'></img>\n",
    "<br>\n",
    "<img src='./IMG/header_1.png' alt='Logo UNSPIDER' align='left' width='50%'></img>\n",
    "<br>"
   ]
  },
  {
   "cell_type": "markdown",
   "metadata": {},
   "source": [
    "<a href=\"./01_INTRODUCCIÓN.ipynb\">**<< 01 - INTRODUCCIÓN**</a><span style=\"float:right;\"><a href=\"./03_USO_DEL_PAQUETE_GEEMAP.ipynb\"> **03 - USO DEL PAQUETE geemap >>**</a> "
   ]
  },
  {
   "cell_type": "markdown",
   "metadata": {},
   "source": [
    "<hr>"
   ]
  },
  {
   "cell_type": "markdown",
   "metadata": {},
   "source": [
    "<a href=\"https://colab.research.google.com/github/Alexanderariza/FOREST-FIRES-ON-GEE-GEEMAP/blob/master/.ipynb_checkpoints/02_INSTALACI%C3%93N%20DEL%20PAQUETE%20GEEMAP-checkpoint.ipynb\"><img src='./IMG/COLAB.svg' alt='Logo CO' align='left' width='10%'></img>\n",
    "<br>\n",
    "\n",
    "<a href=\"https://nbviewer.jupyter.org/github/Alexanderariza/FOREST-FIRES-ON-GEE-GEEMAP/blob/master/02_INSTALACI%C3%93N_DEL_PAQUETE_GEEMAP.ipynb\"><img src='./IMG/NT_vie.svg' alt='NT_VW' align='left' width='10%'></img>\n",
    "<br>"
   ]
  },
  {
   "cell_type": "markdown",
   "metadata": {},
   "source": [
    "# 2. INSTALACIÓN DEL PAQUETE \"Geemap\""
   ]
  },
  {
   "cell_type": "markdown",
   "metadata": {},
   "source": [
    "**Geemap** es un paquete de Python para mapeo interactivo con `Google Earth Engine`, `ipyleaflet` e `ipywidgets`."
   ]
  },
  {
   "cell_type": "markdown",
   "metadata": {},
   "source": [
    "* **Documentación:** https://geemap.readthedocs.io"
   ]
  },
  {
   "cell_type": "markdown",
   "metadata": {},
   "source": [
    "<a href=\"https://pepy.tech/project/geemap\"><img src='./IMG/DOWNLOAD.svg' alt='Logo CO' align='left' width='10%'></img>\n",
    "<br>"
   ]
  },
  {
   "cell_type": "markdown",
   "metadata": {},
   "source": [
    "## Introducción"
   ]
  },
  {
   "cell_type": "markdown",
   "metadata": {},
   "source": [
    "El paquete **geemap** es una librería de Python para el mapeo interactivo con [Google Earth Engine (GEE)](https://earthengine.google.com/), que es una plataforma de procesamiento digital en la nube con un catálogo de múltiples petabytes de imágenes satelitales y conjuntos de datos geoespaciales. Durante los últimos años, **GEE** se ha vuelto muy popular en la comunidad geoespacial y ha potenciado numerosas aplicaciones ambientales a escala local, regional y global. GEE proporciona las API de `JavaScript` y `Python` para realizar solicitudes computacionales a los servidores de Earth Engine. En comparación con la documentación exhaustiva y el IDE interactivo (es decir, GEE JavaScript Code Editor) de la API de GEE JavaScript, la API de GEE Python carece de buena documentación y funcionalidad para visualizar resultados de forma interactiva. Por esta razón, el paquete `geemap Python` se crea para llenar este vacío. Esta basado en el uso de `ipyleaflet` e `ipywidgets`, lo que permite a los usuarios de **GEE** analizar y visualizar conjuntos de datos de Earth Engine de forma interactiva con los portátiles Jupyter."
   ]
  },
  {
   "cell_type": "markdown",
   "metadata": {},
   "source": [
    "**geemap** está destinado a estudiantes e investigadores, a quienes les gustaría utilizar el ecosistema Python de diversas bibliotecas y herramientas para explorar Google Earth Engine. También está diseñado para usuarios de GEE existentes que deseen realizar la transición de la API de `JavaScript` de **GEE** a la API de `Python`. Para ello, se explicara el módulo de conversión automatizado de JavaScript a Python del paquete geemap desarrollado por el Profesor [Qiusheng Wu](https://wetlands.io/), lo que puede reducir en gran medida el tiempo necesario para convertir los `JavaScripts GEE` existentes en scripts `Python` y portátiles `Jupyter`."
   ]
  },
  {
   "cell_type": "markdown",
   "metadata": {},
   "source": [
    "## Caracteristicas"
   ]
  },
  {
   "cell_type": "markdown",
   "metadata": {},
   "source": [
    "A continuación, se muestra una lista parcial de características disponibles para el paquete **geemap**. Consulte el capítulo de casos de estudio, que contiene ejemplos a modo de cuadernos de Jupyter Notebook.\n",
    "\n",
    "* Conversión automatizada de Earth Engine JavaScripts a scripts Python y cuadernos Jupyter.\n",
    "* Mostrar capas de datos de Earth Engine para mapeo interactivo.\n",
    "* Compatible con funciones de estilo API de JavaScript de Earth Engine en Python, como `Map.addLayer ()`, `Map.setCenter ()`, `Map.centerObject ()`, `Map.setOptions ()`.\n",
    "* Creación de mapas de panel dividido con datos de Earth Engine.\n",
    "* Recuperando datos de Earth Engine de forma interactiva utilizando la herramienta Inspector.\n",
    "* Trazado interactivo de datos de Earth Engine simplemente haciendo clic en el mapa.\n",
    "* Conversión de formato de datos entre `GeoJSON` y `Earth Engine`.\n",
    "* Usar herramientas de dibujo para interactuar con los datos de Earth Engine.\n",
    "* Usar archivos de forma con Earth Engine sin tener que cargar datos en la cuenta de GEE.\n",
    "* Exportación de Earth Engine FeatureCollection a otros formatos (es decir, `shp, csv, json, kml, kmz`) utilizando solo una línea de código.\n",
    "* Exportando la imagen de Earth Engine y ImageCollection como `GeoTIFF`.\n",
    "* Extraer píxeles de una imagen de Earth Engine en una matriz numpy 3D.\n",
    "* Cálculo de estadísticas zonales por grupo (por ejemplo, cálculo de la tierra sobre la composición de cada estado / país).\n",
    "* Agregar una leyenda personalizada para los datos de Earth Engine.\n",
    "* Conversión de `Java Engine Script` de Earth Engine a código `Python` directamente dentro del cuaderno Jupyter.\n",
    "* Agregar texto animado a imágenes GIF generadas a partir de datos de Earth Engine.\n",
    "* Agregar barra de colores e imágenes a animaciones GIF generadas a partir de datos de Earth Engine.\n",
    "* Creación de animaciones de timelapse Landsat con texto animado usando Earth Engine.\n",
    "* Búsqueda de lugares y conjuntos de datos del Catálogo de datos de Earth Engine.\n",
    "* Uso del inspector de series de tiempo para visualizar los cambios de paisaje a lo largo del tiempo.\n",
    "* Exportación de mapas de Earth Engine como archivos `HTML` e imágenes `PNG`.\n",
    "* Buscando en la documentación de la API de Earth Engine dentro de los cuadernos Jupyter.\n",
    "* Importación de activos de Earth Engine desde una cuenta personal."
   ]
  },
  {
   "cell_type": "markdown",
   "metadata": {},
   "source": [
    "## Instalación"
   ]
  },
  {
   "cell_type": "markdown",
   "metadata": {},
   "source": [
    "Para usar **geemap**, primero debes registrarte para obtener una cuenta de Google Earth Engine."
   ]
  },
  {
   "cell_type": "markdown",
   "metadata": {},
   "source": [
    "<img src='./IMG/GEE_sing.png' alt='Logo Head' align='center' width='100%'></img>\n",
    "<br>"
   ]
  },
  {
   "cell_type": "markdown",
   "metadata": {},
   "source": [
    "La librería **geemap** está disponible en PyPI. Para instalar geemap, ejecute este comando en su terminal:"
   ]
  },
  {
   "cell_type": "code",
   "execution_count": null,
   "metadata": {},
   "outputs": [],
   "source": [
    "pip install geemap"
   ]
  },
  {
   "cell_type": "markdown",
   "metadata": {},
   "source": [
    "<img src='https://avatars0.githubusercontent.com/u/11897326?s=200&v=4' alt='Logo conda-force' align='left' width='10%'></img>\n",
    "\n",
    "<br> **geemap** también está disponible en conda-forge. Si tiene instalado Anaconda o Miniconda en su computadora, puede crear un entorno conda Python para instalar geemap:"
   ]
  },
  {
   "cell_type": "code",
   "execution_count": null,
   "metadata": {},
   "outputs": [],
   "source": [
    "conda create -n gee python\n",
    "conda activate gee\n",
    "conda install -c conda-forge geemap"
   ]
  },
  {
   "cell_type": "markdown",
   "metadata": {},
   "source": [
    "Si ha instalado **geemap** anteriormente y desea actualizar a la última versión, puede ejecutar el siguiente comando en su terminal:"
   ]
  },
  {
   "cell_type": "code",
   "execution_count": null,
   "metadata": {},
   "outputs": [],
   "source": [
    "pip install -U geemap"
   ]
  },
  {
   "cell_type": "markdown",
   "metadata": {},
   "source": [
    "Si usa conda, puede actualizar geemap a la última versión ejecutando el siguiente comando en su terminal:"
   ]
  },
  {
   "cell_type": "code",
   "execution_count": null,
   "metadata": {},
   "outputs": [],
   "source": [
    "conda update -c conda-forge geemap"
   ]
  },
  {
   "cell_type": "markdown",
   "metadata": {},
   "source": [
    "o instale la versión de desarrollo de GitHub usando Git, ejecute el siguiente comando en su terminal:"
   ]
  },
  {
   "cell_type": "code",
   "execution_count": null,
   "metadata": {},
   "outputs": [],
   "source": [
    "pip install git+https://github.com/giswqs/geemap"
   ]
  },
  {
   "cell_type": "markdown",
   "metadata": {},
   "source": [
    "Para instalar la versión de desarrollo de GitHub directamente en el cuaderno Jupyter sin usar Git, ejecute el siguiente código:"
   ]
  },
  {
   "cell_type": "markdown",
   "metadata": {},
   "source": [
    "import geemap\n",
    "geemap.update_package()"
   ]
  },
  {
   "cell_type": "markdown",
   "metadata": {},
   "source": [
    "Para usar **geemap** en un contenedor Docker, consulte esta [página](https://hub.docker.com/r/bkavlak/geemap)."
   ]
  },
  {
   "cell_type": "markdown",
   "metadata": {},
   "source": [
    "## Funcionamiento"
   ]
  },
  {
   "cell_type": "markdown",
   "metadata": {},
   "source": [
    "**Nota importante:** Una diferencia clave entre `ipyleaflet` y `folium` es que `ipyleaflet` se basa en `ipywidgets` y permite la comunicación bidireccional entre el `front-end y el back-end`, lo que permite el uso del mapa para capturar la entrada del usuario, mientras que el folium está destinado a mostrar solo datos estáticos ( fuente). Tenga en cuenta que Google Colab actualmente no es compatible con `ipyleaflet` (fuente). Por lo tanto, si está usando `geemap` con `Google Colab`, debe usar `import geemap.eefolium`. Si está utilizando `geemap` con `Binder` o un servidor local `Jupyter`, puede usar `import geemap`, que proporciona más funcionalidades para capturar la entrada del usuario (por ejemplo, hacer clic y mover el mouse)."
   ]
  },
  {
   "cell_type": "markdown",
   "metadata": {},
   "source": [
    "<a href=\"./01_INTRODUCCIÓN.ipynb\">**<< 01 - INTRODUCCIÓN**</a><span style=\"float:right;\"><a href=\"./03_USO_DEL_PAQUETE_GEEMAP.ipynb\"> **03 - USO DEL PAQUETE geemap >>**</a> "
   ]
  },
  {
   "cell_type": "markdown",
   "metadata": {},
   "source": [
    "<hr>"
   ]
  },
  {
   "cell_type": "markdown",
   "metadata": {},
   "source": [
    "<img src='./IMG/UNicon.png' alt='Logo down' align='right' width='8%'></img>\n",
    "<i><p style=\"text-align:right;\">Material organizado por el [**Alexander Ariza**](https://www.researchgate.net/profile/Alexander_Ariza2), como apoyo al portal de conocimiento de la oficina de [**UNSPIDER**](https://www.un-spider.org), (2020)  ."
   ]
  }
 ],
 "metadata": {
  "kernelspec": {
   "display_name": "Python 3",
   "language": "python",
   "name": "python3"
  },
  "language_info": {
   "codemirror_mode": {
    "name": "ipython",
    "version": 3
   },
   "file_extension": ".py",
   "mimetype": "text/x-python",
   "name": "python",
   "nbconvert_exporter": "python",
   "pygments_lexer": "ipython3",
   "version": "3.7.6"
  }
 },
 "nbformat": 4,
 "nbformat_minor": 4
}
