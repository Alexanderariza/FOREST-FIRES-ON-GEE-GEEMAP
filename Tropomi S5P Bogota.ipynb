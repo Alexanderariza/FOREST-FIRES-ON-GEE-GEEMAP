{
 "cells": [
  {
   "cell_type": "markdown",
   "metadata": {},
   "source": [
    "<table class=\"ee-notebook-buttons\" align=\"left\">\n",
    "    <td><a target=\"_blank\"  href=\"https://github.com/giswqs/geemap/tree/master/examples/template/template.ipynb\"><img width=32px src=\"https://www.tensorflow.org/images/GitHub-Mark-32px.png\" /> View source on GitHub</a></td>\n",
    "    <td><a target=\"_blank\"  href=\"https://nbviewer.jupyter.org/github/giswqs/geemap/blob/master/examples/template/template.ipynb\"><img width=26px src=\"https://upload.wikimedia.org/wikipedia/commons/thumb/3/38/Jupyter_logo.svg/883px-Jupyter_logo.svg.png\" />Notebook Viewer</a></td>\n",
    "    <td><a target=\"_blank\"  href=\"https://colab.research.google.com/github/giswqs/geemap/blob/master/examples/template/template.ipynb\"><img src=\"https://www.tensorflow.org/images/colab_logo_32px.png\" /> Run in Google Colab</a></td>\n",
    "</table>"
   ]
  },
  {
   "cell_type": "markdown",
   "metadata": {},
   "source": [
    "## Install Earth Engine API and geemap\n",
    "Install the [Earth Engine Python API](https://developers.google.com/earth-engine/python_install) and [geemap](https://github.com/giswqs/geemap). The **geemap** Python package is built upon the [ipyleaflet](https://github.com/jupyter-widgets/ipyleaflet) and [folium](https://github.com/python-visualization/folium) packages and implements several methods for interacting with Earth Engine data layers, such as `Map.addLayer()`, `Map.setCenter()`, and `Map.centerObject()`.\n",
    "The following script checks if the geemap package has been installed. If not, it will install geemap, which automatically installs its [dependencies](https://github.com/giswqs/geemap#dependencies), including earthengine-api, folium, and ipyleaflet.\n",
    "\n",
    "**Important note**: A key difference between folium and ipyleaflet is that ipyleaflet is built upon ipywidgets and allows bidirectional communication between the front-end and the backend enabling the use of the map to capture user input, while folium is meant for displaying static data only ([source](https://blog.jupyter.org/interactive-gis-in-jupyter-with-ipyleaflet-52f9657fa7a)). Note that [Google Colab](https://colab.research.google.com/) currently does not support ipyleaflet ([source](https://github.com/googlecolab/colabtools/issues/60#issuecomment-596225619)). Therefore, if you are using geemap with Google Colab, you should use [`import geemap.eefolium`](https://github.com/giswqs/geemap/blob/master/geemap/eefolium.py). If you are using geemap with [binder](https://mybinder.org/) or a local Jupyter notebook server, you can use [`import geemap`](https://github.com/giswqs/geemap/blob/master/geemap/geemap.py), which provides more functionalities for capturing user input (e.g., mouse-clicking and moving)."
   ]
  },
  {
   "cell_type": "code",
   "execution_count": 6,
   "metadata": {},
   "outputs": [],
   "source": [
    "# Installs geemap package\n",
    "import subprocess\n",
    "\n",
    "try:\n",
    "    import geemap\n",
    "except ImportError:\n",
    "    print('geemap package not installed. Installing ...')\n",
    "    subprocess.check_call([\"python\", '-m', 'pip', 'install', 'geemap'])\n",
    "\n",
    "# Checks whether this notebook is running on Google Colab\n",
    "try:\n",
    "    import google.colab\n",
    "    import geemap.eefolium as emap\n",
    "except:\n",
    "    import geemap as emap\n",
    "\n",
    "# Authenticates and initializes Earth Engine\n",
    "import ee\n",
    "\n",
    "try:\n",
    "    ee.Initialize()\n",
    "except Exception as e:\n",
    "    ee.Authenticate()\n",
    "    ee.Initialize()  "
   ]
  },
  {
   "cell_type": "markdown",
   "metadata": {},
   "source": [
    "## Create an interactive map \n",
    "The default basemap is `Google Satellite`. [Additional basemaps](https://github.com/giswqs/geemap/blob/master/geemap/geemap.py#L13) can be added using the `Map.add_basemap()` function. "
   ]
  },
  {
   "cell_type": "code",
   "execution_count": 7,
   "metadata": {},
   "outputs": [
    {
     "data": {
      "application/vnd.jupyter.widget-view+json": {
       "model_id": "0e323295bb1e4ec797b119230c98e572",
       "version_major": 2,
       "version_minor": 0
      },
      "text/plain": [
       "Map(center=[40, -100], controls=(WidgetControl(options=['position'], widget=HBox(children=(ToggleButton(value=…"
      ]
     },
     "metadata": {},
     "output_type": "display_data"
    }
   ],
   "source": [
    "Map = emap.Map(center=[40,-100], zoom=4)\n",
    "# Map.add_basemap('ROADMAP') # Add Google Map\n",
    "Map"
   ]
  },
  {
   "cell_type": "markdown",
   "metadata": {},
   "source": [
    "## Add Earth Engine Python script "
   ]
  },
  {
   "cell_type": "code",
   "execution_count": 8,
   "metadata": {},
   "outputs": [],
   "source": [
    "# Add Earth Engine dataset\n",
    "# Visualization for Sentinel 5P NO2 concentrations/\n",
    "\n",
    "collection = ee.ImageCollection('COPERNICUS/S5P/OFFL/L3_NO2') \\\n",
    "  .select('tropospheric_NO2_column_number_density')\n",
    "\n",
    "no2_max = 0.0002\n",
    "no2_viz = {\n",
    "  'min': 0,\n",
    "  'max': no2_max,\n",
    "  'opacity': 1.0,\n",
    "  'palette': [\"black\", \"blue\", \"purple\", \"cyan\", \"green\", \"yellow\", \"red\"]\n",
    "}\n",
    "\n",
    "Map.addLayer(collection.mean(), no2_viz, 's5p')\n",
    "Map.setCenter(-74.123820, 4.629194, 10)\n",
    "\n",
    "collection = ee.ImageCollection(\"COPERNICUS/S5P/OFFL/L3_CO\") \\\n",
    "  .select('CO_column_number_density') \\\n",
    "  .filterDate('2018-10-15', '2018-10-20')\n",
    "\n",
    "val_max = 0.05\n",
    "val_min = 0\n",
    "band_viz = {\n",
    "  'min': val_min,\n",
    "  'max': val_max,\n",
    "  'opacity': 1.0,\n",
    "  'palette': [\"black\", \"blue\", \"purple\", \"cyan\", \"green\", \"yellow\", \"red\"]\n",
    "}\n",
    "\n",
    "Map.addLayer(collection.mean(), band_viz, 's5pco2')\n",
    "Map.setCenter(-74.123820, 4.629194, 10)\n",
    "\n",
    "collection = ee.ImageCollection('COPERNICUS/S5P/NRTI/L3_AER_AI') \\\n",
    "  .select('absorbing_aerosol_index') \\\n",
    "  .filterDate('2018-10-30', '2018-11-12')\n",
    "\n",
    "val_max = 2.0\n",
    "val_min = -1\n",
    "band_viz = {\n",
    "  'min': val_min,\n",
    "  'max': val_max,\n",
    "  'opacity': 1.0,\n",
    "  'palette': [\"black\", \"blue\", \"purple\", \"cyan\", \"green\", \"yellow\", \"red\"]\n",
    "}\n",
    "\n",
    "Map.addLayer(collection.mean(), band_viz, 's5pUAV')\n",
    "Map.setCenter(-74.123820, 4.629194, 10)\n"
   ]
  },
  {
   "cell_type": "markdown",
   "metadata": {},
   "source": [
    "## Display Earth Engine data layers "
   ]
  },
  {
   "cell_type": "code",
   "execution_count": 9,
   "metadata": {},
   "outputs": [
    {
     "data": {
      "application/vnd.jupyter.widget-view+json": {
       "model_id": "0e323295bb1e4ec797b119230c98e572",
       "version_major": 2,
       "version_minor": 0
      },
      "text/plain": [
       "Map(center=[4.629194, -74.12382], controls=(WidgetControl(options=['position'], widget=HBox(children=(ToggleBu…"
      ]
     },
     "metadata": {},
     "output_type": "display_data"
    }
   ],
   "source": [
    "Map.addLayerControl() # This line is not needed for ipyleaflet-based Map.\n",
    "Map"
   ]
  },
  {
   "cell_type": "code",
   "execution_count": null,
   "metadata": {},
   "outputs": [],
   "source": []
  }
 ],
 "metadata": {
  "anaconda-cloud": {},
  "kernelspec": {
   "display_name": "Python 3",
   "language": "python",
   "name": "python3"
  },
  "language_info": {
   "codemirror_mode": {
    "name": "ipython",
    "version": 3
   },
   "file_extension": ".py",
   "mimetype": "text/x-python",
   "name": "python",
   "nbconvert_exporter": "python",
   "pygments_lexer": "ipython3",
   "version": "3.7.4"
  }
 },
 "nbformat": 4,
 "nbformat_minor": 1
}
