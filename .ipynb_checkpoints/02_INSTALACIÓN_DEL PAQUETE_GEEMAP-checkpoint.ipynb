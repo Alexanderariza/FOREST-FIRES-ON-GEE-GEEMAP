{
 "cells": [
  {
   "cell_type": "markdown",
   "metadata": {},
   "source": [
    "<img src='./IMG/fondo1.png' alt='Logo Head' align='center' width='100%'></img>\n",
    "<br>\n",
    "<img src='http://kp.un-spider.org/sites/default/files/header_1.png' alt='Logo UNSPIDER' align='left' width='50%'></img>\n",
    "<br>"
   ]
  },
  {
   "cell_type": "markdown",
   "metadata": {},
   "source": [
    "<a href=\"./01_INTRODUCCIÓN.ipynb\"><< 01 INTRODUCCIÓN</a><span style=\"float:right;\"><a href=\"./03_USO_DEL_PAQUETE_GEEMAP.ipynb\"> 3 - USO DEL PAQUETE GEEMAP - >></a> "
   ]
  },
  {
   "cell_type": "markdown",
   "metadata": {},
   "source": [
    "# Ejercicios básicos de procesamiento digital en Jupyter Notebook\n",
    "\n",
    "La siguiente es una colección de scripts básicos, explicados en **español** para el procesamiento digital de imágenes en [**Google Earth Engine (GGE)**](https://earthengine.google.com/), con el fin de poder trabajar con datos de forma masiva en la nube mediante software de código abierto.\n",
    "\n",
    "Esta colección se basa en [cuadernos Jupyter o **Jupyter Notebook**](https://jupyter.org/), que permiten un alto nivel de aprendizaje interactivo, ya que el código, su descripción y la visualización se combinan en un solo lugar. Si no ha trabajado antes con los Cuadernos Jupyter, puede consultar el módulo Introducción a Python y Project Jupyter para obtener una breve introducción a los cuadernos Jupyter y sus beneficios.\n",
    "\n",
    "Material organizado por el [**Alexander Ariza**](https://www.researchgate.net/profile/Alexander_Ariza2), como apoyo al portal de conocimiento de la oficina de [**UNSPIDER**](https://www.un-spider.org), 2020."
   ]
  },
  {
   "cell_type": "markdown",
   "metadata": {},
   "source": [
    "<hr>"
   ]
  },
  {
   "cell_type": "markdown",
   "metadata": {},
   "source": [
    "# 2. INSTALACIÓN DEL PAQUETE \"Geemap\""
   ]
  },
  {
   "cell_type": "markdown",
   "metadata": {},
   "source": [
    "**Geemap** es un paquete de Python para mapeo interactivo con `Google Earth Engine`, `ipyleaflet` e `ipywidgets`."
   ]
  },
  {
   "cell_type": "markdown",
   "metadata": {},
   "source": [
    "* **Documentación:** https://geemap.readthedocs.io"
   ]
  },
  {
   "cell_type": "markdown",
   "metadata": {},
   "source": [
    "## Introducción"
   ]
  },
  {
   "cell_type": "markdown",
   "metadata": {},
   "source": [
    "El paquete **geemap** es una librería de Python para el mapeo interactivo con [Google Earth Engine (GEE)](https://earthengine.google.com/), que es una plataforma de procesamiento digital en la nube con un catálogo de múltiples petabytes de imágenes satelitales y conjuntos de datos geoespaciales. Durante los últimos años, **GEE** se ha vuelto muy popular en la comunidad geoespacial y ha potenciado numerosas aplicaciones ambientales a escala local, regional y global. GEE proporciona las API de `JavaScript` y `Python` para realizar solicitudes computacionales a los servidores de Earth Engine. En comparación con la documentación exhaustiva y el IDE interactivo (es decir, GEE JavaScript Code Editor) de la API de GEE JavaScript, la API de GEE Python carece de buena documentación y funcionalidad para visualizar resultados de forma interactiva. Por esta razón, el paquete `geemap Python` se crea para llenar este vacío. Esta basado en el uso de `ipyleaflet` e `ipywidgets`, lo que permite a los usuarios de **GEE** analizar y visualizar conjuntos de datos de Earth Engine de forma interactiva con los portátiles Jupyter."
   ]
  },
  {
   "cell_type": "markdown",
   "metadata": {},
   "source": [
    "**geemap** está destinado a estudiantes e investigadores, a quienes les gustaría utilizar el ecosistema Python de diversas bibliotecas y herramientas para explorar Google Earth Engine. También está diseñado para usuarios de GEE existentes que deseen realizar la transición de la API de `JavaScript` de **GEE** a la API de `Python`. Para ello, se explicara el módulo de conversión automatizado de JavaScript a Python del paquete geemap desarrollado por el Profesor [Qiusheng Wu](https://wetlands.io/), lo que puede reducir en gran medida el tiempo necesario para convertir los `JavaScripts GEE` existentes en scripts `Python` y portátiles `Jupyter`."
   ]
  },
  {
   "cell_type": "markdown",
   "metadata": {},
   "source": [
    "## Caracteristicas"
   ]
  },
  {
   "cell_type": "markdown",
   "metadata": {},
   "source": [
    "A continuación, se muestra una lista parcial de características disponibles para el paquete **geemap**. Consulte el capítulo de casos de estudio, que contiene ejemplos a modo de cuadernos de Jupyter Notebook.\n",
    "\n",
    "* Conversión automatizada de Earth Engine JavaScripts a scripts Python y cuadernos Jupyter.\n",
    "* Mostrar capas de datos de Earth Engine para mapeo interactivo.\n",
    "* Compatible con funciones de estilo API de JavaScript de Earth Engine en Python, como `Map.addLayer ()`, `Map.setCenter ()`, `Map.centerObject ()`, `Map.setOptions ()`.\n",
    "* Creación de mapas de panel dividido con datos de Earth Engine.\n",
    "* Recuperando datos de Earth Engine de forma interactiva utilizando la herramienta Inspector.\n",
    "* Trazado interactivo de datos de Earth Engine simplemente haciendo clic en el mapa.\n",
    "* Conversión de formato de datos entre `GeoJSON` y `Earth Engine`.\n",
    "* Usar herramientas de dibujo para interactuar con los datos de Earth Engine.\n",
    "* Usar archivos de forma con Earth Engine sin tener que cargar datos en la cuenta de GEE.\n",
    "* Exportación de Earth Engine FeatureCollection a otros formatos (es decir, `shp, csv, json, kml, kmz`) utilizando solo una línea de código.\n",
    "* Exportando la imagen de Earth Engine y ImageCollection como `GeoTIFF`.\n",
    "* Extraer píxeles de una imagen de Earth Engine en una matriz numpy 3D.\n",
    "* Cálculo de estadísticas zonales por grupo (por ejemplo, cálculo de la tierra sobre la composición de cada estado / país).\n",
    "* Agregar una leyenda personalizada para los datos de Earth Engine.\n",
    "* Conversión de `Java Engine Script` de Earth Engine a código `Python` directamente dentro del cuaderno Jupyter.\n",
    "* Agregar texto animado a imágenes GIF generadas a partir de datos de Earth Engine.\n",
    "* Agregar barra de colores e imágenes a animaciones GIF generadas a partir de datos de Earth Engine.\n",
    "* Creación de animaciones de timelapse Landsat con texto animado usando Earth Engine.\n",
    "* Búsqueda de lugares y conjuntos de datos del Catálogo de datos de Earth Engine.\n",
    "* Uso del inspector de series de tiempo para visualizar los cambios de paisaje a lo largo del tiempo.\n",
    "* Exportación de mapas de Earth Engine como archivos `HTML` e imágenes `PNG`.\n",
    "* Buscando en la documentación de la API de Earth Engine dentro de los cuadernos Jupyter.\n",
    "* Importación de activos de Earth Engine desde una cuenta personal."
   ]
  },
  {
   "cell_type": "markdown",
   "metadata": {},
   "source": [
    "## Instalación"
   ]
  },
  {
   "cell_type": "markdown",
   "metadata": {},
   "source": [
    "Para usar **geemap**, primero debes registrarte para obtener una cuenta de Google Earth Engine."
   ]
  },
  {
   "cell_type": "markdown",
   "metadata": {},
   "source": [
    "<img src='./IMG/GEE_sing.png' alt='Logo Head' align='center' width='100%'></img>\n",
    "<br>"
   ]
  },
  {
   "cell_type": "markdown",
   "metadata": {},
   "source": [
    "La librería **geemap** está disponible en PyPI. Para instalar geemap, ejecute este comando en su terminal:"
   ]
  },
  {
   "cell_type": "code",
   "execution_count": 1,
   "metadata": {},
   "outputs": [
    {
     "name": "stdout",
     "output_type": "stream",
     "text": [
      "Collecting geemap\n",
      "Requirement already satisfied: bqplot in c:\\programdata\\anaconda3\\lib\\site-packages (from geemap) (0.12.12)\n",
      "Collecting folium>=0.11.0 (from geemap)\n",
      "  Using cached https://files.pythonhosted.org/packages/a4/f0/44e69d50519880287cc41e7c8a6acc58daa9a9acf5f6afc52bcc70f69a6d/folium-0.11.0-py2.py3-none-any.whl\n",
      "Collecting geeadd>=0.4.8 (from geemap)\n",
      "  Using cached https://files.pythonhosted.org/packages/8b/5d/6aaa8149d4c2a0fdb796bb387d276c1d209db7d9bb34fe5b8bd9f00b0760/geeadd-0.5.0-py3-none-any.whl\n",
      "Requirement already satisfied: pillow in c:\\programdata\\anaconda3\\lib\\site-packages (from geemap) (6.2.0)\n",
      "Requirement already satisfied: geocoder in c:\\programdata\\anaconda3\\lib\\site-packages (from geemap) (1.38.1)\n",
      "Requirement already satisfied: pyshp in c:\\programdata\\anaconda3\\lib\\site-packages (from geemap) (2.1.0)\n",
      "Collecting ipyfilechooser (from geemap)\n",
      "  Using cached https://files.pythonhosted.org/packages/02/51/99115ae0ff4f4a0e61b5f5715247214486d6a5a5579a3c7652d42ba542ec/ipyfilechooser-0.3.4-py3-none-any.whl\n",
      "Requirement already satisfied: dulwich in c:\\programdata\\anaconda3\\lib\\site-packages (from geemap) (0.20.3)\n",
      "Collecting ipytree (from geemap)\n",
      "  Using cached https://files.pythonhosted.org/packages/36/2f/f93092e485afc384b4cc39f17ff1cb252380a3745bb4a7e2f6e488e3d0c4/ipytree-0.1.8-py2.py3-none-any.whl\n",
      "Requirement already satisfied: click in c:\\programdata\\anaconda3\\lib\\site-packages (from geemap) (7.0)\n",
      "Collecting colour (from geemap)\n",
      "  Using cached https://files.pythonhosted.org/packages/74/46/e81907704ab203206769dee1385dc77e1407576ff8f50a0681d0a6b541be/colour-0.1.5-py2.py3-none-any.whl\n",
      "Collecting earthengine-api (from geemap)\n",
      "Requirement already satisfied: mss in c:\\programdata\\anaconda3\\lib\\site-packages (from geemap) (5.1.0)\n",
      "Collecting ipynb-py-convert (from geemap)\n",
      "Collecting ipyleaflet>=0.12.6 (from geemap)\n",
      "  Using cached https://files.pythonhosted.org/packages/a9/e5/37122b82018ba9d24138b5407d8e4f28af0e73cfc4686bcc8d3b0db01536/ipyleaflet-0.13.0-py2.py3-none-any.whl\n",
      "Requirement already satisfied: matplotlib in c:\\programdata\\anaconda3\\lib\\site-packages (from geemap) (3.1.1)\n",
      "Requirement already satisfied: numpy>=1.10.4 in c:\\programdata\\anaconda3\\lib\\site-packages (from bqplot->geemap) (1.16.5)\n",
      "Requirement already satisfied: pandas in c:\\programdata\\anaconda3\\lib\\site-packages (from bqplot->geemap) (0.25.1)\n",
      "Requirement already satisfied: ipywidgets>=7.5.0 in c:\\programdata\\anaconda3\\lib\\site-packages (from bqplot->geemap) (7.5.1)\n",
      "Requirement already satisfied: traitlets>=4.3.0 in c:\\programdata\\anaconda3\\lib\\site-packages (from bqplot->geemap) (4.3.3)\n",
      "Requirement already satisfied: traittypes>=0.0.6 in c:\\programdata\\anaconda3\\lib\\site-packages (from bqplot->geemap) (0.2.1)\n",
      "Requirement already satisfied: jinja2>=2.9 in c:\\programdata\\anaconda3\\lib\\site-packages (from folium>=0.11.0->geemap) (2.10.3)\n",
      "Collecting branca>=0.3.0 (from folium>=0.11.0->geemap)\n",
      "  Using cached https://files.pythonhosted.org/packages/13/fb/9eacc24ba3216510c6b59a4ea1cd53d87f25ba76237d7f4393abeaf4c94e/branca-0.4.1-py3-none-any.whl\n",
      "Requirement already satisfied: requests in c:\\programdata\\anaconda3\\lib\\site-packages (from folium>=0.11.0->geemap) (2.22.0)\n",
      "Collecting beautifulsoup4>=4.9.0 (from geeadd>=0.4.8->geemap)\n",
      "  Using cached https://files.pythonhosted.org/packages/66/25/ff030e2437265616a1e9b25ccc864e0371a0bc3adb7c5a404fd661c6f4f6/beautifulsoup4-4.9.1-py3-none-any.whl\n",
      "Collecting logzero>=1.5.0 (from geeadd>=0.4.8->geemap)\n",
      "  Using cached https://files.pythonhosted.org/packages/97/24/27295d318ea8976b12cf9cc51d82e7c7129220f6a3cc9e3443df3be8afdb/logzero-1.5.0-py2.py3-none-any.whl\n",
      "Requirement already satisfied: six in c:\\programdata\\anaconda3\\lib\\site-packages (from geocoder->geemap) (1.12.0)\n",
      "Requirement already satisfied: ratelim in c:\\programdata\\anaconda3\\lib\\site-packages (from geocoder->geemap) (0.1.6)\n",
      "Requirement already satisfied: future in c:\\programdata\\anaconda3\\lib\\site-packages (from geocoder->geemap) (0.17.1)\n",
      "Requirement already satisfied: certifi in c:\\programdata\\anaconda3\\lib\\site-packages (from dulwich->geemap) (2019.9.11)\n",
      "Requirement already satisfied: urllib3>=1.24.1 in c:\\programdata\\anaconda3\\lib\\site-packages (from dulwich->geemap) (1.24.2)\n",
      "Collecting httplib2shim (from earthengine-api->geemap)\n",
      "Collecting httplib2<1dev,>=0.9.2 (from earthengine-api->geemap)\n",
      "  Using cached https://files.pythonhosted.org/packages/b3/ad/d9d9331850ea5bd4f5cb8c650c0bfa119a4abd6b0ad7c45b6506bc979fc0/httplib2-0.18.1-py3-none-any.whl\n",
      "Collecting google-cloud-storage (from earthengine-api->geemap)\n",
      "  Using cached https://files.pythonhosted.org/packages/98/8c/41398b95ad0d612e1cfc3c1816292540bac76242ef2aaa4b7adb06da5f6b/google_cloud_storage-1.29.0-py2.py3-none-any.whl\n",
      "Collecting google-api-python-client (from earthengine-api->geemap)\n",
      "  Using cached https://files.pythonhosted.org/packages/63/e1/f465e0e8138cc76587d5b626c16c649b72f41a5cdbf414f8959221e03096/google_api_python_client-1.9.3-py3-none-any.whl\n",
      "Collecting google-auth-httplib2>=0.0.3 (from earthengine-api->geemap)\n",
      "  Using cached https://files.pythonhosted.org/packages/33/49/c814d6d438b823441552198f096fcd0377fd6c88714dbed34f1d3c8c4389/google_auth_httplib2-0.0.3-py2.py3-none-any.whl\n",
      "Collecting google-auth>=1.4.1 (from earthengine-api->geemap)\n",
      "  Using cached https://files.pythonhosted.org/packages/9f/87/8f8d09ba959b2e51508cfcf3350e7df6ed0d1e06c7e056ca1a28e00e982a/google_auth-1.17.2-py2.py3-none-any.whl\n",
      "Requirement already satisfied: cycler>=0.10 in c:\\programdata\\anaconda3\\lib\\site-packages (from matplotlib->geemap) (0.10.0)\n",
      "Requirement already satisfied: kiwisolver>=1.0.1 in c:\\programdata\\anaconda3\\lib\\site-packages (from matplotlib->geemap) (1.1.0)\n",
      "Requirement already satisfied: pyparsing!=2.0.4,!=2.1.2,!=2.1.6,>=2.0.1 in c:\\programdata\\anaconda3\\lib\\site-packages (from matplotlib->geemap) (2.4.2)\n",
      "Requirement already satisfied: python-dateutil>=2.1 in c:\\programdata\\anaconda3\\lib\\site-packages (from matplotlib->geemap) (2.8.0)\n",
      "Requirement already satisfied: pytz>=2017.2 in c:\\programdata\\anaconda3\\lib\\site-packages (from pandas->bqplot->geemap) (2019.3)\n",
      "Requirement already satisfied: nbformat>=4.2.0 in c:\\programdata\\anaconda3\\lib\\site-packages (from ipywidgets>=7.5.0->bqplot->geemap) (4.4.0)\n",
      "Requirement already satisfied: widgetsnbextension~=3.5.0 in c:\\programdata\\anaconda3\\lib\\site-packages (from ipywidgets>=7.5.0->bqplot->geemap) (3.5.1)\n",
      "Requirement already satisfied: ipython>=4.0.0; python_version >= \"3.3\" in c:\\programdata\\anaconda3\\lib\\site-packages (from ipywidgets>=7.5.0->bqplot->geemap) (7.8.0)\n",
      "Requirement already satisfied: ipykernel>=4.5.1 in c:\\programdata\\anaconda3\\lib\\site-packages (from ipywidgets>=7.5.0->bqplot->geemap) (5.1.2)\n",
      "Requirement already satisfied: ipython-genutils in c:\\programdata\\anaconda3\\lib\\site-packages (from traitlets>=4.3.0->bqplot->geemap) (0.2.0)\n",
      "Requirement already satisfied: decorator in c:\\programdata\\anaconda3\\lib\\site-packages (from traitlets>=4.3.0->bqplot->geemap) (4.4.0)\n",
      "Requirement already satisfied: MarkupSafe>=0.23 in c:\\programdata\\anaconda3\\lib\\site-packages (from jinja2>=2.9->folium>=0.11.0->geemap) (1.1.1)\n",
      "Requirement already satisfied: idna<2.9,>=2.5 in c:\\programdata\\anaconda3\\lib\\site-packages (from requests->folium>=0.11.0->geemap) (2.8)\n",
      "Requirement already satisfied: chardet<3.1.0,>=3.0.2 in c:\\programdata\\anaconda3\\lib\\site-packages (from requests->folium>=0.11.0->geemap) (3.0.4)\n",
      "Requirement already satisfied: soupsieve>1.2 in c:\\programdata\\anaconda3\\lib\\site-packages (from beautifulsoup4>=4.9.0->geeadd>=0.4.8->geemap) (1.9.3)\n",
      "Requirement already satisfied: colorama; sys_platform == \"win32\" in c:\\programdata\\anaconda3\\lib\\site-packages (from logzero>=1.5.0->geeadd>=0.4.8->geemap) (0.4.1)\n",
      "Collecting google-resumable-media<0.6dev,>=0.5.0 (from google-cloud-storage->earthengine-api->geemap)\n",
      "  Using cached https://files.pythonhosted.org/packages/f2/cc/cd05c633298fcbba5d61b6b8844de598e001954281a004fc1a13c61a5121/google_resumable_media-0.5.1-py2.py3-none-any.whl\n",
      "Collecting google-cloud-core<2.0dev,>=1.2.0 (from google-cloud-storage->earthengine-api->geemap)\n",
      "  Using cached https://files.pythonhosted.org/packages/89/3c/8a7531839028c9690e6d14c650521f3bbaf26e53baaeb2784b8c3eb2fb97/google_cloud_core-1.3.0-py2.py3-none-any.whl\n",
      "Collecting google-api-core<2dev,>=1.18.0 (from google-api-python-client->earthengine-api->geemap)\n",
      "  Downloading https://files.pythonhosted.org/packages/00/c4/5ade7b68872f5ac7be2bec4b2e78800a7f4cd4cd587e9ccbcb67bb6722c7/google_api_core-1.20.1-py2.py3-none-any.whl (90kB)\n",
      "Collecting uritemplate<4dev,>=3.0.0 (from google-api-python-client->earthengine-api->geemap)\n",
      "  Using cached https://files.pythonhosted.org/packages/bf/0c/60d82c077998feb631608dca3cc1fe19ac074e772bf0c24cf409b977b815/uritemplate-3.0.1-py2.py3-none-any.whl\n",
      "Collecting rsa<5,>=3.1.4; python_version >= \"3\" (from google-auth>=1.4.1->earthengine-api->geemap)\n",
      "  Using cached https://files.pythonhosted.org/packages/1c/df/c3587a667d6b308fadc90b99e8bc8774788d033efcc70f4ecaae7fad144b/rsa-4.6-py3-none-any.whl\n",
      "Collecting cachetools<5.0,>=2.0.0 (from google-auth>=1.4.1->earthengine-api->geemap)\n",
      "  Using cached https://files.pythonhosted.org/packages/b3/59/524ffb454d05001e2be74c14745b485681c6ed5f2e625f71d135704c0909/cachetools-4.1.0-py3-none-any.whl\n",
      "Collecting pyasn1-modules>=0.2.1 (from google-auth>=1.4.1->earthengine-api->geemap)\n",
      "  Using cached https://files.pythonhosted.org/packages/95/de/214830a981892a3e286c3794f41ae67a4495df1108c3da8a9f62159b9a9d/pyasn1_modules-0.2.8-py2.py3-none-any.whl\n",
      "Requirement already satisfied: setuptools>=40.3.0 in c:\\programdata\\anaconda3\\lib\\site-packages (from google-auth>=1.4.1->earthengine-api->geemap) (41.4.0)\n",
      "Requirement already satisfied: jupyter-core in c:\\programdata\\anaconda3\\lib\\site-packages (from nbformat>=4.2.0->ipywidgets>=7.5.0->bqplot->geemap) (4.5.0)\n",
      "Requirement already satisfied: jsonschema!=2.5.0,>=2.4 in c:\\programdata\\anaconda3\\lib\\site-packages (from nbformat>=4.2.0->ipywidgets>=7.5.0->bqplot->geemap) (3.0.2)\n",
      "Requirement already satisfied: notebook>=4.4.1 in c:\\programdata\\anaconda3\\lib\\site-packages (from widgetsnbextension~=3.5.0->ipywidgets>=7.5.0->bqplot->geemap) (6.0.1)\n",
      "Requirement already satisfied: prompt-toolkit<2.1.0,>=2.0.0 in c:\\programdata\\anaconda3\\lib\\site-packages (from ipython>=4.0.0; python_version >= \"3.3\"->ipywidgets>=7.5.0->bqplot->geemap) (2.0.10)\n",
      "Requirement already satisfied: pygments in c:\\programdata\\anaconda3\\lib\\site-packages (from ipython>=4.0.0; python_version >= \"3.3\"->ipywidgets>=7.5.0->bqplot->geemap) (2.4.2)\n",
      "Requirement already satisfied: pickleshare in c:\\programdata\\anaconda3\\lib\\site-packages (from ipython>=4.0.0; python_version >= \"3.3\"->ipywidgets>=7.5.0->bqplot->geemap) (0.7.5)\n",
      "Requirement already satisfied: backcall in c:\\programdata\\anaconda3\\lib\\site-packages (from ipython>=4.0.0; python_version >= \"3.3\"->ipywidgets>=7.5.0->bqplot->geemap) (0.1.0)\n",
      "Requirement already satisfied: jedi>=0.10 in c:\\programdata\\anaconda3\\lib\\site-packages (from ipython>=4.0.0; python_version >= \"3.3\"->ipywidgets>=7.5.0->bqplot->geemap) (0.15.1)\n",
      "Requirement already satisfied: tornado>=4.2 in c:\\programdata\\anaconda3\\lib\\site-packages (from ipykernel>=4.5.1->ipywidgets>=7.5.0->bqplot->geemap) (6.0.3)\n",
      "Requirement already satisfied: jupyter-client in c:\\programdata\\anaconda3\\lib\\site-packages (from ipykernel>=4.5.1->ipywidgets>=7.5.0->bqplot->geemap) (5.3.3)\n",
      "Collecting protobuf>=3.12.0 (from google-api-core<2dev,>=1.18.0->google-api-python-client->earthengine-api->geemap)\n",
      "  Using cached https://files.pythonhosted.org/packages/82/6c/c9b57d24685639dfb07b1798bf64e576c3c675a0b9fe0519254d0f9d1e30/protobuf-3.12.2-cp37-cp37m-win_amd64.whl\n",
      "Collecting googleapis-common-protos<2.0dev,>=1.6.0 (from google-api-core<2dev,>=1.18.0->google-api-python-client->earthengine-api->geemap)\n",
      "  Using cached https://files.pythonhosted.org/packages/03/74/3956721ea1eb4bcf7502a311fdaa60b85bd751de4e57d1943afe9b334141/googleapis_common_protos-1.52.0-py2.py3-none-any.whl\n",
      "Collecting pyasn1>=0.1.3 (from rsa<5,>=3.1.4; python_version >= \"3\"->google-auth>=1.4.1->earthengine-api->geemap)\n",
      "  Using cached https://files.pythonhosted.org/packages/62/1e/a94a8d635fa3ce4cfc7f506003548d0a2447ae76fd5ca53932970fe3053f/pyasn1-0.4.8-py2.py3-none-any.whl\n",
      "Requirement already satisfied: attrs>=17.4.0 in c:\\programdata\\anaconda3\\lib\\site-packages (from jsonschema!=2.5.0,>=2.4->nbformat>=4.2.0->ipywidgets>=7.5.0->bqplot->geemap) (19.2.0)\n",
      "Requirement already satisfied: pyrsistent>=0.14.0 in c:\\programdata\\anaconda3\\lib\\site-packages (from jsonschema!=2.5.0,>=2.4->nbformat>=4.2.0->ipywidgets>=7.5.0->bqplot->geemap) (0.15.4)\n",
      "Requirement already satisfied: nbconvert in c:\\programdata\\anaconda3\\lib\\site-packages (from notebook>=4.4.1->widgetsnbextension~=3.5.0->ipywidgets>=7.5.0->bqplot->geemap) (5.6.0)\n",
      "Requirement already satisfied: pyzmq>=17 in c:\\programdata\\anaconda3\\lib\\site-packages (from notebook>=4.4.1->widgetsnbextension~=3.5.0->ipywidgets>=7.5.0->bqplot->geemap) (18.1.0)\n",
      "Requirement already satisfied: prometheus-client in c:\\programdata\\anaconda3\\lib\\site-packages (from notebook>=4.4.1->widgetsnbextension~=3.5.0->ipywidgets>=7.5.0->bqplot->geemap) (0.7.1)\n",
      "Requirement already satisfied: terminado>=0.8.1 in c:\\programdata\\anaconda3\\lib\\site-packages (from notebook>=4.4.1->widgetsnbextension~=3.5.0->ipywidgets>=7.5.0->bqplot->geemap) (0.8.2)\n",
      "Requirement already satisfied: Send2Trash in c:\\programdata\\anaconda3\\lib\\site-packages (from notebook>=4.4.1->widgetsnbextension~=3.5.0->ipywidgets>=7.5.0->bqplot->geemap) (1.5.0)\n",
      "Requirement already satisfied: wcwidth in c:\\programdata\\anaconda3\\lib\\site-packages (from prompt-toolkit<2.1.0,>=2.0.0->ipython>=4.0.0; python_version >= \"3.3\"->ipywidgets>=7.5.0->bqplot->geemap) (0.1.7)\n",
      "Requirement already satisfied: parso>=0.5.0 in c:\\programdata\\anaconda3\\lib\\site-packages (from jedi>=0.10->ipython>=4.0.0; python_version >= \"3.3\"->ipywidgets>=7.5.0->bqplot->geemap) (0.5.1)\n",
      "Requirement already satisfied: pywin32>=1.0; sys_platform == \"win32\" in c:\\programdata\\anaconda3\\lib\\site-packages (from jupyter-client->ipykernel>=4.5.1->ipywidgets>=7.5.0->bqplot->geemap) (223)\n",
      "Requirement already satisfied: entrypoints>=0.2.2 in c:\\programdata\\anaconda3\\lib\\site-packages (from nbconvert->notebook>=4.4.1->widgetsnbextension~=3.5.0->ipywidgets>=7.5.0->bqplot->geemap) (0.3)\n",
      "Requirement already satisfied: mistune<2,>=0.8.1 in c:\\programdata\\anaconda3\\lib\\site-packages (from nbconvert->notebook>=4.4.1->widgetsnbextension~=3.5.0->ipywidgets>=7.5.0->bqplot->geemap) (0.8.4)\n",
      "Requirement already satisfied: defusedxml in c:\\programdata\\anaconda3\\lib\\site-packages (from nbconvert->notebook>=4.4.1->widgetsnbextension~=3.5.0->ipywidgets>=7.5.0->bqplot->geemap) (0.6.0)\n",
      "Requirement already satisfied: bleach in c:\\programdata\\anaconda3\\lib\\site-packages (from nbconvert->notebook>=4.4.1->widgetsnbextension~=3.5.0->ipywidgets>=7.5.0->bqplot->geemap) (3.1.0)\n",
      "Requirement already satisfied: pandocfilters>=1.4.1 in c:\\programdata\\anaconda3\\lib\\site-packages (from nbconvert->notebook>=4.4.1->widgetsnbextension~=3.5.0->ipywidgets>=7.5.0->bqplot->geemap) (1.4.2)\n",
      "Requirement already satisfied: testpath in c:\\programdata\\anaconda3\\lib\\site-packages (from nbconvert->notebook>=4.4.1->widgetsnbextension~=3.5.0->ipywidgets>=7.5.0->bqplot->geemap) (0.4.2)\n",
      "Requirement already satisfied: webencodings in c:\\programdata\\anaconda3\\lib\\site-packages (from bleach->nbconvert->notebook>=4.4.1->widgetsnbextension~=3.5.0->ipywidgets>=7.5.0->bqplot->geemap) (0.5.1)\n",
      "Installing collected packages: branca, folium, beautifulsoup4, logzero, httplib2, httplib2shim, pyasn1, rsa, cachetools, pyasn1-modules, google-auth, google-resumable-media, protobuf, googleapis-common-protos, google-api-core, google-cloud-core, google-cloud-storage, uritemplate, google-auth-httplib2, google-api-python-client, earthengine-api, geeadd, ipyfilechooser, ipytree, colour, ipynb-py-convert, ipyleaflet, geemap\n",
      "  Found existing installation: beautifulsoup4 4.8.0\n",
      "    Uninstalling beautifulsoup4-4.8.0:\n",
      "Note: you may need to restart the kernel to use updated packages.\n"
     ]
    },
    {
     "name": "stderr",
     "output_type": "stream",
     "text": [
      "ERROR: ipyleaflet 0.13.0 has requirement branca<0.4,>=0.3.1, but you'll have branca 0.4.1 which is incompatible.\n",
      "ERROR: Could not install packages due to an EnvironmentError: [WinError 5] Access is denied: 'c:\\\\programdata\\\\anaconda3\\\\lib\\\\site-packages\\\\beautifulsoup4-4.8.0.dist-info\\\\COPYING.txt'\n",
      "Consider using the `--user` option or check the permissions.\n",
      "\n"
     ]
    }
   ],
   "source": [
    "pip install geemap"
   ]
  },
  {
   "cell_type": "markdown",
   "metadata": {},
   "source": [
    "<img src='https://avatars0.githubusercontent.com/u/11897326?s=200&v=4' alt='Logo conda-force' align='left' width='10%'></img>\n",
    "\n",
    "<br> **geemap** también está disponible en conda-forge. Si tiene instalado Anaconda o Miniconda en su computadora, puede crear un entorno conda Python para instalar geemap:"
   ]
  },
  {
   "cell_type": "code",
   "execution_count": 2,
   "metadata": {},
   "outputs": [
    {
     "ename": "SyntaxError",
     "evalue": "invalid syntax (<ipython-input-2-ea7e52cbe676>, line 1)",
     "output_type": "error",
     "traceback": [
      "\u001b[1;36m  File \u001b[1;32m\"<ipython-input-2-ea7e52cbe676>\"\u001b[1;36m, line \u001b[1;32m1\u001b[0m\n\u001b[1;33m    conda create -n gee python\u001b[0m\n\u001b[1;37m               ^\u001b[0m\n\u001b[1;31mSyntaxError\u001b[0m\u001b[1;31m:\u001b[0m invalid syntax\n"
     ]
    }
   ],
   "source": [
    "conda create -n gee python\n",
    "conda activate gee\n",
    "conda install -c conda-forge geemap"
   ]
  },
  {
   "cell_type": "markdown",
   "metadata": {},
   "source": [
    "Si ha instalado **geemap** anteriormente y desea actualizar a la última versión, puede ejecutar el siguiente comando en su terminal:"
   ]
  },
  {
   "cell_type": "code",
   "execution_count": null,
   "metadata": {},
   "outputs": [],
   "source": [
    "pip install -U geemap"
   ]
  },
  {
   "cell_type": "markdown",
   "metadata": {},
   "source": [
    "Si usa conda, puede actualizar geemap a la última versión ejecutando el siguiente comando en su terminal:"
   ]
  },
  {
   "cell_type": "code",
   "execution_count": null,
   "metadata": {},
   "outputs": [],
   "source": [
    "conda update -c conda-forge geemap"
   ]
  },
  {
   "cell_type": "markdown",
   "metadata": {},
   "source": [
    "o instale la versión de desarrollo de GitHub usando Git, ejecute el siguiente comando en su terminal:"
   ]
  },
  {
   "cell_type": "code",
   "execution_count": null,
   "metadata": {},
   "outputs": [],
   "source": [
    "pip install git+https://github.com/giswqs/geemap"
   ]
  },
  {
   "cell_type": "markdown",
   "metadata": {},
   "source": [
    "Para instalar la versión de desarrollo de GitHub directamente en el cuaderno Jupyter sin usar Git, ejecute el siguiente código:"
   ]
  },
  {
   "cell_type": "markdown",
   "metadata": {},
   "source": [
    "import geemap\n",
    "geemap.update_package()"
   ]
  },
  {
   "cell_type": "markdown",
   "metadata": {},
   "source": [
    "Para usar **geemap** en un contenedor Docker, consulte esta [página](https://hub.docker.com/r/bkavlak/geemap)."
   ]
  },
  {
   "cell_type": "markdown",
   "metadata": {},
   "source": [
    "## Funcionamiento"
   ]
  },
  {
   "cell_type": "markdown",
   "metadata": {},
   "source": [
    "**Nota importante:** Una diferencia clave entre `ipyleaflet` y `folium` es que `ipyleaflet` se basa en `ipywidgets` y permite la comunicación bidireccional entre el `front-end y el back-end`, lo que permite el uso del mapa para capturar la entrada del usuario, mientras que el folium está destinado a mostrar solo datos estáticos ( fuente). Tenga en cuenta que Google Colab actualmente no es compatible con `ipyleaflet` (fuente). Por lo tanto, si está usando `geemap` con `Google Colab`, debe usar `import geemap.eefolium`. Si está utilizando `geemap` con `Binder` o un servidor local `Jupyter`, puede usar `import geemap`, que proporciona más funcionalidades para capturar la entrada del usuario (por ejemplo, hacer clic y mover el mouse)."
   ]
  },
  {
   "cell_type": "markdown",
   "metadata": {},
   "source": [
    "<a href=\"./01_INTRODUCCIÓN.ipynb\"><< 01 INTRODUCCIÓN</a><span style=\"float:right;\"><a href=\"./03_USO_DEL_PAQUETE_GEEMAP.ipynb\"> 3 - USO DEL PAQUETE GEEMAP - >></a> "
   ]
  },
  {
   "cell_type": "markdown",
   "metadata": {},
   "source": [
    "<hr>"
   ]
  },
  {
   "cell_type": "markdown",
   "metadata": {},
   "source": [
    "<img src='./IMG/UNicon.png' alt='Logo down' align='right' width='8%'></img>\n",
    "<i><p style=\"text-align:right;\">Material organizado por el [**Alexander Ariza**](https://www.researchgate.net/profile/Alexander_Ariza2), como apoyo al portal de conocimiento de la oficina de [**UNSPIDER**](https://www.un-spider.org), (2020)  ."
   ]
  }
 ],
 "metadata": {
  "kernelspec": {
   "display_name": "Python 3",
   "language": "python",
   "name": "python3"
  },
  "language_info": {
   "codemirror_mode": {
    "name": "ipython",
    "version": 3
   },
   "file_extension": ".py",
   "mimetype": "text/x-python",
   "name": "python",
   "nbconvert_exporter": "python",
   "pygments_lexer": "ipython3",
   "version": "3.7.4"
  }
 },
 "nbformat": 4,
 "nbformat_minor": 4
}
