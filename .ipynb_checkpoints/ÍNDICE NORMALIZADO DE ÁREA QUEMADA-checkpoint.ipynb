{
 "cells": [
  {
   "cell_type": "markdown",
   "metadata": {},
   "source": [
    "<img src='http://kp.un-spider.org/sites/default/files/header_1.png' alt='Logo UNSPIDER' align='left' width='50%'></img>\n",
    "\n",
    "<br>"
   ]
  },
  {
   "cell_type": "markdown",
   "metadata": {},
   "source": [
    "# Ejercicios básicos de procesamiento digital en Jupyter Notebook"
   ]
  },
  {
   "cell_type": "markdown",
   "metadata": {},
   "source": [
    "La siguiente es una colección de los scripts para Google Earth Engine GGE, con el fin de poder\n",
    "trabajar con datos de forma masiva en la nube y como alternativa alos software propietarios de escritorio."
   ]
  },
  {
   "cell_type": "markdown",
   "metadata": {},
   "source": [
    "Material organizado por el [Alexander Ariza](https://www.researchgate.net/profile/Alexander_Ariza2), con el apoyo de [UNSPIDER](https://www.un-spider.org)."
   ]
  },
  {
   "cell_type": "markdown",
   "metadata": {},
   "source": [
    "<hr>"
   ]
  },
  {
   "cell_type": "markdown",
   "metadata": {},
   "source": [
    "# Mapeo de Severidad de Incendios Forestales"
   ]
  },
  {
   "cell_type": "markdown",
   "metadata": {},
   "source": [
    "<span style=float:center><img src='./IMG/Senti_2_Burneo_2019.JPG' alt='Mapa severidad' align='right' width='10%'></img></span>\n",
    "\n",
    "Un incendio forestal es un incendio que se propaga rápidamente y que también ocurre en áreas forestales. Las estaciones secas anuales o la sequía proporcionan un ambiente ideal para la biomasa y las condiciones secas para combinar; resultando en la creación de combustible, cuando se enciende. Las fuentes de ignición para incendios forestales pueden estar relacionadas con eventos naturales, como rayos y / o flujo de lava. También pueden ser artificiales, como resultado de la quema de escombros, fuegos desatendidas e incendios intencionales, por ejemplo."
   ]
  },
  {
   "cell_type": "markdown",
   "metadata": {},
   "source": [
    "<span style=float:center><img src='./IMG/SeveS2.JPG' alt='Mapa severidad' align='left' width='20%'></img></span> Un incendio forestal es un incendio que se propaga rápidamente y que también ocurre en áreas forestales. Las estaciones secas anuales o la sequía proporcionan un ambiente ideal para la biomasa y las condiciones secas para combinar; resultando en la creación de combustible, cuando se enciende. Las fuentes de ignición para incendios forestales pueden estar relacionadas con eventos naturales, como rayos y / o flujo de lava. También pueden ser artificiales, como resultado de la quema de escombros, fuegos desatendidas e incendios intencionales, por ejemplo.\n",
    " \n",
    "\n"
   ]
  },
  {
   "cell_type": "markdown",
   "metadata": {},
   "source": [
    "##  Requiremientos: "
   ]
  },
  {
   "cell_type": "markdown",
   "metadata": {},
   "source": [
    "Esta práctica recomendada se puede realizar utilizando datos de Landsat 8 o Sentinel-2. La principal diferencia es la resolución espacial, ya que la resolución espacial de las bandas Sentinel-2 NIR y SWIR es de 20 m, en comparación con Landsat 8, que es de 30 m."
   ]
  },
  {
   "cell_type": "markdown",
   "metadata": {},
   "source": [
    "# ÍNDICE NORMALIZADO DE ÁREA QUEMADA"
   ]
  },
  {
   "cell_type": "markdown",
   "metadata": {},
   "source": [
    "Instale la API de Python de [Earth Engine](https://developers.google.com/earth-engine/python_install) y [geemap](https://github.com/giswqs/geemap). El paquete **geemap** Python se basa en los paquetes [ipyleaflet](https://github.com/jupyter-widgets/ipyleaflet) y [folium](https://github.com/python-visualization/folium) e implementa varios métodos para interactuar con las capas de datos de Earth Engine, como `Map.addLayer (), Map.setCenter () y Map.centerObject ()`. El siguiente script comprueba si el paquete geemap ha sido instalado. De lo contrario, instalará geemap, que instala automáticamente sus dependencias, incluidas earthengine-api, folium e ipyleaflet."
   ]
  },
  {
   "cell_type": "markdown",
   "metadata": {},
   "source": [
    "**Nota importante**: una diferencia clave entre folium e ipyleaflet es que ipyleaflet se basa en ipywidgets y permite la comunicación bidireccional entre el front-end y el backend, lo que permite el uso del mapa para capturar la entrada del usuario, mientras que el folium está destinado a mostrar solo datos estáticos ( fuente). Tenga en cuenta que Google Colab actualmente no es compatible con ipyleaflet (fuente). Por lo tanto, si está usando geemap con Google Colab, debe usar import geemap.eefolium. Si está utilizando geemap con Binder o un servidor local Jupyter, puede usar import geemap, que proporciona más funcionalidades para capturar la entrada del usuario (por ejemplo, hacer clic y mover el mouse)."
   ]
  },
  {
   "cell_type": "code",
   "execution_count": null,
   "metadata": {},
   "outputs": [],
   "source": [
    "# Installs geemap package\n",
    "import subprocess\n",
    "\n",
    "try:\n",
    "    import geemap\n",
    "except ImportError:\n",
    "    print('geemap package not installed. Installing ...')\n",
    "    subprocess.check_call([\"python\", '-m', 'pip', 'install', 'geemap'])\n",
    "\n",
    "# Checks whether this notebook is running on Google Colab\n",
    "try:\n",
    "    import google.colab\n",
    "    import geemap.eefolium as geemap\n",
    "except:\n",
    "    import geemap\n",
    "\n",
    "# Authenticates and initializes Earth Engine\n",
    "import ee\n",
    "\n",
    "try:\n",
    "    ee.Initialize()\n",
    "except Exception as e:\n",
    "    ee.Authenticate()\n",
    "    ee.Initialize()"
   ]
  },
  {
   "cell_type": "markdown",
   "metadata": {},
   "source": [
    "##  Cree un mapa interactivo: "
   ]
  },
  {
   "cell_type": "markdown",
   "metadata": {},
   "source": [
    "El mapa base predeterminado es Google Maps. Se pueden agregar mapas base adicionales utilizando la función Map.add_basemap ()."
   ]
  },
  {
   "cell_type": "code",
   "execution_count": null,
   "metadata": {},
   "outputs": [],
   "source": [
    "Map = geemap.Map(center=[40,-100], zoom=4)\n",
    "Map"
   ]
  },
  {
   "cell_type": "markdown",
   "metadata": {},
   "source": [
    "##  Agregar el script de Python de Earth Engine: "
   ]
  },
  {
   "cell_type": "code",
   "execution_count": null,
   "metadata": {},
   "outputs": [],
   "source": [
    "\n",
    "# Add Earth Engine dataset\n",
    "# NormalizedDifference example.\n",
    "#\n",
    "# Compute Normalized Difference Vegetation Index over MOD09GA product.\n",
    "# NDVI = (NIR - RED) / (NIR + RED), where\n",
    "# RED is sur_refl_b01, 620-670nm\n",
    "# NIR is sur_refl_b02, 841-876nm\n",
    "\n",
    "# Load a MODIS image.\n",
    "img = ee.Image('MODIS/006/MOD09GA/2012_03_09')\n",
    "\n",
    "# Use the normalizedDifference(A, B) to compute (A - B) / (A + B)\n",
    "ndvi = img.normalizedDifference(['sur_refl_b02', 'sur_refl_b01'])\n",
    "\n",
    "# Make a 'palette': a list of hex strings.\n",
    "palette = ['FFFFFF', 'CE7E45', 'DF923D', 'F1B555', 'FCD163', '99B718',\n",
    "               '74A901', '66A000', '529400', '3E8601', '207401', '056201',\n",
    "               '004C00', '023B01', '012E01', '011D01', '011301']\n",
    "\n",
    "# Center the map\n",
    "Map.setCenter(-94.84497, 39.01918, 8)\n",
    "\n",
    "# Display the input image and the NDVI derived from it.\n",
    "Map.addLayer(img.select(['sur_refl_b01', 'sur_refl_b04', 'sur_refl_b03']),\n",
    "         {'gain': [0.1, 0.1, 0.1]}, 'MODIS bands 1/4/3')\n",
    "Map.addLayer(ndvi, {'min': 0, 'max': 1, 'palette': palette}, 'NDVI')"
   ]
  },
  {
   "cell_type": "markdown",
   "metadata": {},
   "source": [
    "##  Mostrar los datos en una capa de Earth Engine: "
   ]
  },
  {
   "cell_type": "code",
   "execution_count": null,
   "metadata": {},
   "outputs": [],
   "source": [
    "Map.addLayerControl() # This line is not needed for ipyleaflet-based Map.\n",
    "Map"
   ]
  }
 ],
 "metadata": {
  "kernelspec": {
   "display_name": "Python 3",
   "language": "python",
   "name": "python3"
  },
  "language_info": {
   "codemirror_mode": {
    "name": "ipython",
    "version": 3
   },
   "file_extension": ".py",
   "mimetype": "text/x-python",
   "name": "python",
   "nbconvert_exporter": "python",
   "pygments_lexer": "ipython3",
   "version": "3.7.4"
  }
 },
 "nbformat": 4,
 "nbformat_minor": 2
}
