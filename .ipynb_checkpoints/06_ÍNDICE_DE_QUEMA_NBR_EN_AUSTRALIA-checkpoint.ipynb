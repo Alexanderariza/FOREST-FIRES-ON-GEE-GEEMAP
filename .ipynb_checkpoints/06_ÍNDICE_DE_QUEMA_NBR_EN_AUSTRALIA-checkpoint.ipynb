{
 "cells": [
  {
   "cell_type": "markdown",
   "metadata": {},
   "source": [
    "<img src='./IMG/fondo1.png' alt='Logo Head' align='center' width='100%'></img>\n",
    "<br>\n",
    "<img src='http://kp.un-spider.org/sites/default/files/header_1.png' alt='Logo UNSPIDER' align='left' width='50%'></img>\n",
    "<br>"
   ]
  },
  {
   "cell_type": "markdown",
   "metadata": {},
   "source": [
    "<a href=\"./05_MAPEO_INTERACTIVO_USANDO_API_PYTHON_DE_GEE_GEEMAP.ipynb\">**<< 05 - MAPA INTERACTIVO USANDO API Python de geemap**</a><span style=\"float:right;\">"
   ]
  },
  {
   "cell_type": "markdown",
   "metadata": {},
   "source": [
    "<hr>"
   ]
  },
  {
   "cell_type": "markdown",
   "metadata": {},
   "source": [
    "# 6. ÍNDICE DE ÁREA QUEMADA (NBR) DE MODIS EN AUSTRALIA"
   ]
  },
  {
   "cell_type": "markdown",
   "metadata": {},
   "source": [
    "Un incendio forestal es un incendio que se propaga rápidamente y que también ocurre en áreas forestales. Las estaciones secas anuales o la sequía proporcionan un ambiente ideal para la biomasa y las condiciones secas para combinar; resultando en la creación de combustible, cuando se enciende. Las fuentes de ignición para incendios forestales pueden estar relacionadas con eventos naturales, como rayos y / o flujo de lava. También pueden ser artificiales, como resultado de la quema de escombros, fuegos desatendidas e incendios intencionales, por ejemplo."
   ]
  },
  {
   "cell_type": "markdown",
   "metadata": {},
   "source": [
    "<span style=float:center><img src='https://f-tep.com/sites/default/files/GC-fireAug2019_blog6.gif'  align='left' width='30%'></img></span>\n",
    "Un incendio forestal es un incendio que se propaga rápidamente y que también ocurre en áreas forestales. Las estaciones secas anuales o la sequía proporcionan un ambiente ideal para la biomasa y las condiciones secas para combinar; resultando en la creación de combustible, cuando se enciende. Las fuentes de ignición para incendios forestales pueden estar relacionadas con eventos naturales, como rayos y / o flujo de lava. También pueden ser artificiales, como resultado de la quema de escombros, fuegos desatendidas e incendios intencionales, por ejemplo.\n",
    "    \n",
    "\n",
    "### Índice Normalizado de Área Quemada (NBR)\n",
    "\n",
    "El índice Normalizado de Área Quemada (NBR) es un índice diseñado para resaltar áreas quemadas en grandes zonas de incendio. La fórmula es similar a NDVI, excepto que combina el uso de longitudes de onda de infrarrojo cercano (NIR) e infrarrojo de onda corta (SWIR)."
   ]
  },
  {
   "cell_type": "markdown",
   "metadata": {},
   "source": [
    "<figcaption><i>Incendios en la Isla de Gran Canaria - España - ESA 2019</i></figcaption>\n",
    "</figure>\n",
    "</div>"
   ]
  },
  {
   "cell_type": "markdown",
   "metadata": {},
   "source": [
    "\n",
    "\n",
    "\\begin{equation*}\n",
    "NBR=\\frac{NIR-SWIR}{NIR+SWIR}\n",
    "\\end{equation*}\n",
    "\n"
   ]
  },
  {
   "cell_type": "markdown",
   "metadata": {},
   "source": [
    "\\begin{equation*}\n",
    "\\left.\n",
    "\\begin{aligned}\n",
    "NIR = \\text{Infrarojo cercano}\\\\\n",
    "SWIR = \\text{Infrarojo de onda corta}\n",
    "\\end{aligned}\n",
    "\\right\\}\n",
    "\\quad\\text{Regiones del NBR}\n",
    "\\end{equation*}"
   ]
  },
  {
   "cell_type": "markdown",
   "metadata": {},
   "source": [
    "##  Requiremientos: "
   ]
  },
  {
   "cell_type": "markdown",
   "metadata": {},
   "source": [
    "Esta práctica recomendada se puede realizar utilizando datos de **Landsat 8** o **Sentinel-2**. La principal diferencia es la resolución espacial con las que se elabora el **NBR**, ya que la resolución espacial en Sentinel-2 NIR y SWIR es de 20 m, en comparación con Landsat 8, que es de 30 m."
   ]
  },
  {
   "cell_type": "markdown",
   "metadata": {},
   "source": [
    "# ÍNDICE NORMALIZADO DE ÁREA QUEMADA"
   ]
  },
  {
   "cell_type": "markdown",
   "metadata": {},
   "source": [
    "Instale la API de Python de [Earth Engine](https://developers.google.com/earth-engine/python_install) y [geemap](https://github.com/giswqs/geemap). El paquete **geemap** Python se basa en los paquetes [ipyleaflet](https://github.com/jupyter-widgets/ipyleaflet) y [folium](https://github.com/python-visualization/folium) e implementa varios métodos para interactuar con las capas de datos de Earth Engine, como `Map.addLayer (), Map.setCenter () y Map.centerObject ()`. El siguiente script comprueba si el paquete geemap ha sido instalado. De lo contrario, instalará geemap, que instala automáticamente sus dependencias, incluidas earthengine-api, folium e ipyleaflet."
   ]
  },
  {
   "cell_type": "markdown",
   "metadata": {},
   "source": [
    "**Nota importante**: una diferencia clave entre folium e ipyleaflet es que ipyleaflet se basa en ipywidgets y permite la comunicación bidireccional entre el front-end y el backend, lo que permite el uso del mapa para capturar la entrada del usuario, mientras que el folium está destinado a mostrar solo datos estáticos ( fuente). Tenga en cuenta que Google Colab actualmente no es compatible con ipyleaflet (fuente). Por lo tanto, si está usando geemap con Google Colab, debe usar import geemap.eefolium. Si está utilizando geemap con Binder o un servidor local Jupyter, puede usar import geemap, que proporciona más funcionalidades para capturar la entrada del usuario (por ejemplo, hacer clic y mover el mouse)."
   ]
  },
  {
   "cell_type": "markdown",
   "metadata": {},
   "source": [
    "##  Instala el paquete geemap:"
   ]
  },
  {
   "cell_type": "code",
   "execution_count": null,
   "metadata": {},
   "outputs": [],
   "source": [
    "import subprocess\n",
    "\n",
    "try:\n",
    "    import geemap\n",
    "except ImportError:\n",
    "    print('geemap package not installed. Installing ...')\n",
    "    subprocess.check_call([\"python\", '-m', 'pip', 'install', 'geemap'])"
   ]
  },
  {
   "cell_type": "markdown",
   "metadata": {},
   "source": [
    "* Comprueba si este cuaderno se está ejecutando en `Google Colab`:"
   ]
  },
  {
   "cell_type": "code",
   "execution_count": null,
   "metadata": {},
   "outputs": [],
   "source": [
    "try:\n",
    "    import google.colab\n",
    "    import geemap.eefolium as geemap\n",
    "except:\n",
    "    import geemap"
   ]
  },
  {
   "cell_type": "markdown",
   "metadata": {},
   "source": [
    "* Identifiquese e inicie en `Earth Engine`:"
   ]
  },
  {
   "cell_type": "code",
   "execution_count": null,
   "metadata": {},
   "outputs": [],
   "source": [
    "import ee\n",
    "\n",
    "try:\n",
    "    ee.Initialize()\n",
    "except Exception as e:\n",
    "    ee.Authenticate()\n",
    "    ee.Initialize()"
   ]
  },
  {
   "cell_type": "markdown",
   "metadata": {},
   "source": [
    "##  Agregar el script de Python de Earth Engine: "
   ]
  },
  {
   "cell_type": "markdown",
   "metadata": {},
   "source": [
    "\n",
    "Tomaremos como ejemplo los grandes incendios de Autralia ocurridos enn febreo a marzo de 2019. A patir de las bandas multiespectrales de MODIS, se calcule el indice normalizado de area quemada `(NBR)` para el producto `MODIS MOD09GA`:\n",
    " \n",
    " * NBR = (NIR - SWIR) / (NIR + SWIR), donde\n",
    " * RED es sur_refl_b01, 620-670nm\n",
    " * SWIR es sur_refl_b07, 2105-2155nm"
   ]
  },
  {
   "cell_type": "markdown",
   "metadata": {},
   "source": [
    "* Agregar el conjunto de datos de `Earth Engine`:"
   ]
  },
  {
   "cell_type": "code",
   "execution_count": null,
   "metadata": {},
   "outputs": [],
   "source": [
    "# Cargue una imagen MODIS.\n",
    "img = ee.Image('MODIS/006/MOD09GA/2019_02_10')"
   ]
  },
  {
   "cell_type": "markdown",
   "metadata": {},
   "source": [
    "* Use la diferencia normalizada entre (A, B) para calcular (A - B) / (A + B):"
   ]
  },
  {
   "cell_type": "code",
   "execution_count": null,
   "metadata": {},
   "outputs": [],
   "source": [
    "nbr = img.normalizedDifference(['sur_refl_b02', 'sur_refl_b07'])"
   ]
  },
  {
   "cell_type": "markdown",
   "metadata": {},
   "source": [
    "* Cree una paleta de color, a partir de una lista `hex strings`:"
   ]
  },
  {
   "cell_type": "code",
   "execution_count": null,
   "metadata": {},
   "outputs": [],
   "source": [
    "palette = ['000000', 'FFFFFF']      "
   ]
  },
  {
   "cell_type": "markdown",
   "metadata": {},
   "source": [
    "* Centre el mapa:"
   ]
  },
  {
   "cell_type": "code",
   "execution_count": null,
   "metadata": {},
   "outputs": [],
   "source": [
    "Map.setCenter(147, -36, 6)"
   ]
  },
  {
   "cell_type": "markdown",
   "metadata": {},
   "source": [
    "* Muestre la entrada de la imagen en RGB y el NBR derivado de ella:"
   ]
  },
  {
   "cell_type": "code",
   "execution_count": null,
   "metadata": {},
   "outputs": [],
   "source": [
    "Map.addLayer(img.select(['sur_refl_b01', 'sur_refl_b04', 'sur_refl_b03']),\n",
    "         {'gain': [0.1, 0.1, 0.1]}, 'MODIS bands 1/4/3')\n",
    "Map.addLayer(nbr, {'min': 0, 'max': 1, 'palette': palette}, 'NBR')"
   ]
  },
  {
   "cell_type": "markdown",
   "metadata": {},
   "source": [
    "##  Cree un mapa interactivo y muestre los datos en una capa de Earth Engine: "
   ]
  },
  {
   "cell_type": "markdown",
   "metadata": {},
   "source": [
    "* El mapa base predeterminado es Google Maps. Se pueden agregar mapas base adicionales utilizando la función Map.add_basemap ().\n",
    "\n",
    "<img src='./IMG/AUS_NBR.jpg' alt='NBR' align='center' width='50%'></img>\n",
    "<br>"
   ]
  },
  {
   "cell_type": "code",
   "execution_count": null,
   "metadata": {},
   "outputs": [],
   "source": [
    "Map.addLayerControl() # Esta linea no es necesaria para mapas basados en ipyleaflet.\n",
    "Map"
   ]
  },
  {
   "cell_type": "markdown",
   "metadata": {},
   "source": [
    "##  Interpretación de resultados: "
   ]
  },
  {
   "cell_type": "markdown",
   "metadata": {},
   "source": [
    "La vegetación saludable muestra una reflectancia muy alta en el NIR y una baja reflectancia en la porción del espectro SWIR, lo contrario de lo que se ve en áreas devastadas por el fuego. Recientemente, las áreas quemadas muestran baja reflectancia en el NIR y alta reflectancia en el SWIR, es decir, la diferencia entre las respuestas espectrales de la vegetación saludable y las áreas quemadas alcanzan su pico en las regiones NIR y SWIR del espectro."
   ]
  },
  {
   "cell_type": "markdown",
   "metadata": {},
   "source": [
    "El NBR utiliza la relación entre las bandas NIR y SWIR, de acuerdo con la fórmula que se indicó anteriormente. Un valor alto de NBR (tonos claros) indica vegetación saludable, mientras que un valor bajo (tonos oscuros) indica suelo desnudo y áreas recientemente quemadas. Las áreas no quemadas normalmente se atribuyen a valores cercanos a cero."
   ]
  },
  {
   "cell_type": "markdown",
   "metadata": {},
   "source": [
    "##  Comparación con el NDVI"
   ]
  },
  {
   "cell_type": "markdown",
   "metadata": {},
   "source": [
    "Puede realizar una comparación entre la respuesta generada por el índice normalizado de área quemada NBR y el Índice de Vegetación NDVI:\n",
    "\n",
    "<img src='./IMG/AUS_NDVI.jpg' alt='NBR' align='center' width='50%'></img>\n",
    "<br>"
   ]
  },
  {
   "cell_type": "code",
   "execution_count": 93,
   "metadata": {},
   "outputs": [
    {
     "data": {
      "application/vnd.jupyter.widget-view+json": {
       "model_id": "a3c7696a0d5e42038d6ce8cae47ce3ea",
       "version_major": 2,
       "version_minor": 0
      },
      "text/plain": [
       "Map(center=[-34.624167789904895, 149.51293945312503], controls=(WidgetControl(options=['position'], widget=HBo…"
      ]
     },
     "metadata": {},
     "output_type": "display_data"
    }
   ],
   "source": [
    "# Cargue una imagen MODIS\n",
    "img = ee.Image('MODIS/006/MOD09GA/2019_02_10')\n",
    "\n",
    "# Defina el indice NDVI\n",
    "ndvi = img.normalizedDifference(['sur_refl_b02', 'sur_refl_b01'])\n",
    "\n",
    "# Cree una paleta de color\n",
    "palette = ['FFFFFF', 'CE7E45', 'DF923D', 'F1B555', 'FCD163', '99B718',\n",
    "            '74A901', '66A000', 'DF923D', 'F1B555', '207401', '056201',\n",
    "              '004C00', '023B01', '012E01', '011D01', '011301']\n",
    "\n",
    "# Muestre la entrada de la imagen y el NBR derivado de ella:\n",
    "Map.addLayer(ndvi, {'min': 0, 'max': 1, 'palette': palette}, 'NDVI')    \n",
    "\n",
    "# Esta linea no es necesaria para mapas basados en ipyleaflet.\n",
    "Map.addLayerControl() \n",
    "Map"
   ]
  },
  {
   "cell_type": "markdown",
   "metadata": {},
   "source": [
    "<a href=\"./05_MAPEO_INTERACTIVO_USANDO_API_PYTHON_DE_GEE_GEEMAP.ipynb\">**<< 05 - MAPA INTERACTIVO USANDO API Python de geemap**</a><span style=\"float:right;\">"
   ]
  },
  {
   "cell_type": "markdown",
   "metadata": {},
   "source": [
    "<hr>"
   ]
  },
  {
   "cell_type": "markdown",
   "metadata": {},
   "source": [
    "<img src='./IMG/UNicon.png' alt='Logo down' align='right' width='8%'></img>\n",
    "<i><p style=\"text-align:right;\">Material organizado por el [**Alexander Ariza**](https://www.researchgate.net/profile/Alexander_Ariza2), como apoyo al portal de conocimiento de la oficina de [**UNSPIDER**](https://www.un-spider.org), (2020)  ."
   ]
  }
 ],
 "metadata": {
  "kernelspec": {
   "display_name": "Python 3",
   "language": "python",
   "name": "python3"
  },
  "language_info": {
   "codemirror_mode": {
    "name": "ipython",
    "version": 3
   },
   "file_extension": ".py",
   "mimetype": "text/x-python",
   "name": "python",
   "nbconvert_exporter": "python",
   "pygments_lexer": "ipython3",
   "version": "3.7.7"
  }
 },
 "nbformat": 4,
 "nbformat_minor": 2
}
