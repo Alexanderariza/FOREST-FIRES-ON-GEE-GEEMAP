{
 "cells": [
  {
   "cell_type": "markdown",
   "metadata": {},
   "source": [
    "<img src='./IMG/head_b.png' alt='Logo Head' align='center' width='100%'></img>\n",
    "<br>\n",
    "<img src='./IMG/header_1.png' alt='Logo UNSPIDER' align='left' width='50%'></img>\n",
    "<br>"
   ]
  },
  {
   "cell_type": "markdown",
   "metadata": {},
   "source": [
    "<a href=\"./04_GEE_JavaScripts_2_Python_NB.ipynb\">**<< 04 Conversión de GEE-JavaScripts a Python-NB**</a><span style=\"float:right;\"><a href=\"./06_ÍNDICE_DE_QUEMA_NBR_EN_AUSTRALIA.ipynb\"> **06 ÍNDICE DE QUEMA NBR DE MODIS EN AUSTRALIA >>**</a> "
   ]
  },
  {
   "cell_type": "markdown",
   "metadata": {},
   "source": [
    "<hr>"
   ]
  },
  {
   "cell_type": "markdown",
   "metadata": {},
   "source": [
    "# 5. Mapa Interactivo Usando la API geemap en Python 3"
   ]
  },
  {
   "cell_type": "markdown",
   "metadata": {},
   "source": [
    "Para el siguiente ejercicio, puede iniciar un cuaderno interactivo con **Google Colab**. Tenga en cuenta que Google Colab actualmente no es compatible con `ipyleaflet`. Por lo tanto, debe usar import `geemap.eefolium` en lugar de `import geemap`.\n",
    "Por otra parte puede si tiene instalado Anaconda, puede correrlo directamente sobre su Jupyter Notebook o en Jupyter Viewer."
   ]
  },
  {
   "cell_type": "markdown",
   "metadata": {},
   "source": [
    "<a href=\"https://colab.research.google.com/github/Alexanderariza/FOREST-FIRES-ON-GEE-GEEMAP/blob/master/.ipynb_checkpoints/05_MAPEO_INTERACTIVO_USANDO_API_PYTHON_DE_GEE_GEEMAP-checkpoint.ipynb\"><img src='./IMG/COLAB.svg' alt='Logo CO' align='left' width='10%'></img>\n",
    "<br>\n",
    "\n",
    "<a href=\"https://nbviewer.jupyter.org/github/Alexanderariza/FOREST-FIRES-ON-GEE-GEEMAP/blob/master/05_MAPEO_INTERACTIVO_USANDO_API_PYTHON_DE_GEE_GEEMAP.ipynb\"><img src='./IMG/NT_vie.svg' alt='NT_VW' align='left' width='10%'></img>\n",
    "<br>"
   ]
  },
  {
   "cell_type": "markdown",
   "metadata": {},
   "source": [
    "##  Instala el paquete geemap:"
   ]
  },
  {
   "cell_type": "code",
   "execution_count": 12,
   "metadata": {},
   "outputs": [],
   "source": [
    "# Instala el paquete geemap \n",
    "import subprocess\n",
    "\n",
    "try:\n",
    "        import geemap\n",
    "except ImportError:\n",
    "        print('geemap package not installed. Installing ...')\n",
    "        subprocess.check_call([\"python\", '-m', 'pip', 'install', 'geemap'])"
   ]
  },
  {
   "cell_type": "markdown",
   "metadata": {},
   "source": [
    "* Comprueba si este cuaderno se está ejecutando en `Google Colab`: "
   ]
  },
  {
   "cell_type": "code",
   "execution_count": 1,
   "metadata": {},
   "outputs": [],
   "source": [
    "try:\n",
    "        import google.colab\n",
    "        import geemap.eefolium as emap\n",
    "except:\n",
    "        import geemap as emap"
   ]
  },
  {
   "cell_type": "markdown",
   "metadata": {},
   "source": [
    "* Identifiquese e inicie en Earth Engine: "
   ]
  },
  {
   "cell_type": "code",
   "execution_count": 2,
   "metadata": {},
   "outputs": [],
   "source": [
    "import ee\n",
    "\n",
    "try:\n",
    "        ee.Initialize()\n",
    "except Exception as e:\n",
    "        ee.Authenticate()\n",
    "        ee.Initialize()"
   ]
  },
  {
   "cell_type": "markdown",
   "metadata": {},
   "source": [
    "##  Cree un mapa interactivo: "
   ]
  },
  {
   "cell_type": "markdown",
   "metadata": {},
   "source": [
    "* Cree un mapa interactivo de una zona de interés (puede utilizar la herramienta [BoundingBox](https://boundingbox.klokantech.com/) para extraer las coordenadas):\n",
    "<img src='./IMG/bbox.png' alt='Logo CO' align='center' width='50%'></img>\n",
    "<br>"
   ]
  },
  {
   "cell_type": "code",
   "execution_count": 3,
   "metadata": {},
   "outputs": [],
   "source": [
    "Map = emap.Map(center=[-74,11], zoom=4)"
   ]
  },
  {
   "cell_type": "markdown",
   "metadata": {},
   "source": [
    "* Agrega el conjunto de datos de Earth Engine (e.g. Modelo de elevación del STRM):"
   ]
  },
  {
   "cell_type": "code",
   "execution_count": 4,
   "metadata": {},
   "outputs": [],
   "source": [
    "image = ee.Image('USGS/SRTMGL1_003')"
   ]
  },
  {
   "cell_type": "markdown",
   "metadata": {},
   "source": [
    "* Establece los parámetros de visualización (rango y paleta de color):"
   ]
  },
  {
   "cell_type": "code",
   "execution_count": 5,
   "metadata": {},
   "outputs": [],
   "source": [
    "vis_params = {\n",
    "        'min': 0,\n",
    "        'max': 4000,\n",
    "        'palette': ['006633', 'E5FFCC', '662A00', 'D8D8D8', 'F5F5F5']}"
   ]
  },
  {
   "cell_type": "markdown",
   "metadata": {},
   "source": [
    "* (e.g.) Imprime la elevación de la sierra Nevada de Santa Marta:"
   ]
  },
  {
   "cell_type": "code",
   "execution_count": 6,
   "metadata": {},
   "outputs": [
    {
     "name": "stdout",
     "output_type": "stream",
     "text": [
      "Elevación de la Sierra Nevada de Santa Marta (m): None\n"
     ]
    }
   ],
   "source": [
    "xy = ee.Geometry.Point([-73.7505149047, 10.7223708103])\n",
    "elev = image.sample(xy, 30).first().get('elevación').getInfo()\n",
    "print('Elevación de la Sierra Nevada de Santa Marta (m):', elev)"
   ]
  },
  {
   "cell_type": "markdown",
   "metadata": {},
   "source": [
    "* Agrega capas de Earth Engine al mapa:"
   ]
  },
  {
   "cell_type": "code",
   "execution_count": 7,
   "metadata": {},
   "outputs": [],
   "source": [
    "Map.addLayer(image, vis_params, 'SRTM DEM', True, 0.5)\n",
    "Map.addLayer(xy, {'color': 'red'}, 'Mount Everest')"
   ]
  },
  {
   "cell_type": "markdown",
   "metadata": {},
   "source": [
    "* Centre y muestre el objeto:\n",
    "<img src='./IMG/santa_marta.jpg' alt='Logo CO' align='center' width='50%'></img>\n",
    "<br>"
   ]
  },
  {
   "cell_type": "code",
   "execution_count": 8,
   "metadata": {},
   "outputs": [
    {
     "data": {
      "application/vnd.jupyter.widget-view+json": {
       "model_id": "f656bd9147d84f09a971c7c2ea7d49e3",
       "version_major": 2,
       "version_minor": 0
      },
      "text/plain": [
       "Map(center=[11, -74], controls=(WidgetControl(options=['position'], widget=HBox(children=(ToggleButton(value=F…"
      ]
     },
     "metadata": {},
     "output_type": "display_data"
    }
   ],
   "source": [
    "Map.setCenter(-74,11, 9)\n",
    "\n",
    "Map.addLayerControl()\n",
    "Map"
   ]
  },
  {
   "cell_type": "markdown",
   "metadata": {},
   "source": [
    "<a href=\"./04_GEE_JavaScripts_2_Python_NB.ipynb\">**<< 04 Conversión de GEE-JavaScripts a Python-NB**</a><span style=\"float:right;\"><a href=\"./06_ÍNDICE_DE_QUEMA_NBR_EN_AUSTRALIA.ipynb\"> **06 ÍNDICE DE QUEMA NBR DE MODIS EN AUSTRALIA >>**</a>"
   ]
  },
  {
   "cell_type": "markdown",
   "metadata": {},
   "source": [
    "<hr>"
   ]
  },
  {
   "cell_type": "markdown",
   "metadata": {},
   "source": [
    "<img src='./IMG/UNicon.png' alt='Logo down' align='right' width='8%'></img>\n",
    "<i><p style=\"text-align:right;\">Material organizado por el [**Alexander Ariza**](https://www.researchgate.net/profile/Alexander_Ariza2), como apoyo al portal de conocimiento de la oficina de [**UNSPIDER**](https://www.un-spider.org), (2020)  ."
   ]
  },
  {
   "cell_type": "code",
   "execution_count": null,
   "metadata": {},
   "outputs": [],
   "source": []
  }
 ],
 "metadata": {
  "kernelspec": {
   "display_name": "Python 3",
   "language": "python",
   "name": "python3"
  },
  "language_info": {
   "codemirror_mode": {
    "name": "ipython",
    "version": 3
   },
   "file_extension": ".py",
   "mimetype": "text/x-python",
   "name": "python",
   "nbconvert_exporter": "python",
   "pygments_lexer": "ipython3",
   "version": "3.7.6"
  }
 },
 "nbformat": 4,
 "nbformat_minor": 4
}
